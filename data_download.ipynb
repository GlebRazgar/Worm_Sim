{
 "cells": [
  {
   "cell_type": "code",
   "execution_count": 2,
   "metadata": {},
   "outputs": [
    {
     "data": {
      "text/plain": [
       "{'data_type': 'uint64',\n",
       " 'num_channels': 1,\n",
       " 'scales': [{'chunk_sizes': [[512, 512, 16]],\n",
       "   'encoding': 'raw',\n",
       "   'key': '0.768_0.768_50.0',\n",
       "   'resolution': [0.768, 0.768, 50.0],\n",
       "   'size': [37376, 35328, 448],\n",
       "   'voxel_offset': [0, 0, 0]},\n",
       "  {'chunk_sizes': [[512, 512, 16]],\n",
       "   'encoding': 'raw',\n",
       "   'key': '1.536_1.536_50.0',\n",
       "   'resolution': [1.536, 1.536, 50.0],\n",
       "   'size': [18688, 17664, 448],\n",
       "   'voxel_offset': [0, 0, 0]},\n",
       "  {'chunk_sizes': [[512, 512, 16]],\n",
       "   'encoding': 'raw',\n",
       "   'key': '3.072_3.072_50.0',\n",
       "   'resolution': [3.072, 3.072, 50.0],\n",
       "   'size': [9344, 8832, 448],\n",
       "   'voxel_offset': [0, 0, 0]},\n",
       "  {'chunk_sizes': [[512, 512, 16]],\n",
       "   'encoding': 'raw',\n",
       "   'key': '6.144_6.144_50.0',\n",
       "   'resolution': [6.144, 6.144, 50.0],\n",
       "   'size': [4672, 4416, 448],\n",
       "   'voxel_offset': [0, 0, 0]},\n",
       "  {'chunk_sizes': [[512, 512, 16]],\n",
       "   'encoding': 'raw',\n",
       "   'key': '12.288_12.288_50.0',\n",
       "   'resolution': [12.288, 12.288, 50.0],\n",
       "   'size': [2336, 2208, 448],\n",
       "   'voxel_offset': [0, 0, 0]},\n",
       "  {'chunk_sizes': [[512, 512, 16]],\n",
       "   'encoding': 'raw',\n",
       "   'key': '24.576_24.576_100.0',\n",
       "   'resolution': [24.576, 24.576, 100.0],\n",
       "   'size': [1168, 1104, 224],\n",
       "   'voxel_offset': [0, 0, 0]},\n",
       "  {'chunk_sizes': [[512, 512, 16]],\n",
       "   'encoding': 'raw',\n",
       "   'key': '49.152_49.152_200.0',\n",
       "   'resolution': [49.152, 49.152, 200.0],\n",
       "   'size': [584, 552, 112],\n",
       "   'voxel_offset': [0, 0, 0]}],\n",
       " 'type': 'segmentation'}"
      ]
     },
     "execution_count": 2,
     "metadata": {},
     "output_type": "execute_result"
    }
   ],
   "source": [
    "import cloudvolume\n",
    "from cloudvolume import CloudVolume, Bbox\n",
    "import numpy as np\n",
    "\n",
    "sem = CloudVolume('s3://bossdb-open-data/witvliet2020/Dataset_5/em/', mip=4, secrets=None, use_https=True,fill_missing=True)\n",
    "sem_labels = CloudVolume('s3://bossdb-open-data/witvliet2020/Dataset_5/segmentation/', mip=4, secrets=None, use_https=True,fill_missing=True)\n",
    "tem = CloudVolume('s3://bossdb-open-data/witvliet2020/Dataset_6/em/', secrets=None, mip=4, use_https=True,fill_missing=True)\n",
    "tem_labels = CloudVolume('s3://bossdb-open-data/witvliet2020/Dataset_6/segmentation/', mip=4, secrets=None, use_https=True,fill_missing=True)\n",
    "sem.refresh_info()\n",
    "sem_labels.refresh_info()\n",
    "tem.refresh_info()\n",
    "tem_labels.refresh_info()\n",
    "\n"
   ]
  },
  {
   "cell_type": "code",
   "execution_count": 3,
   "metadata": {},
   "outputs": [],
   "source": [
    "import zarr\n",
    "\n",
    "# Assert that the Zarr version is 2.*\n",
    "assert zarr.__version__.startswith('2.'), f\"Zarr version must be 2: {zarr.__version__}\"\n"
   ]
  },
  {
   "cell_type": "code",
   "execution_count": 4,
   "metadata": {},
   "outputs": [
    {
     "name": "stdout",
     "output_type": "stream",
     "text": [
      "---- SEM (nm) ----\n",
      "Resolution at mip=0: [2.0, 2.0, 30.0]\n",
      "Resolution at mip=1: [4.0, 4.0, 30.0]\n",
      "Resolution at mip=2: [8.0, 8.0, 30.0]\n",
      "Resolution at mip=3: [16.0, 16.0, 30.0]\n",
      "Resolution at mip=4: [32.0, 32.0, 30.0]\n",
      "Resolution at mip=5: [64.0, 64.0, 30.0]\n",
      "---- SEM Labels (nm) ----\n",
      "Resolution at mip=0: [2.0, 2.0, 30.0]\n",
      "Resolution at mip=1: [4.0, 4.0, 30.0]\n",
      "Resolution at mip=2: [8.0, 8.0, 30.0]\n",
      "Resolution at mip=3: [16.0, 16.0, 30.0]\n",
      "Resolution at mip=4: [32.0, 32.0, 30.0]\n",
      "---- TEM (nm) ----\n",
      "Resolution at mip=0: [0.768, 0.768, 50.0]\n",
      "Resolution at mip=1: [1.536, 1.536, 50.0]\n",
      "Resolution at mip=2: [3.072, 3.072, 50.0]\n",
      "Resolution at mip=3: [6.144, 6.144, 50.0]\n",
      "Resolution at mip=4: [12.288, 12.288, 50.0]\n",
      "Resolution at mip=5: [24.576, 24.576, 50.0]\n",
      "Resolution at mip=6: [49.152, 49.152, 50.0]\n",
      "---- TEM Labels (nm) ----\n",
      "Resolution at mip=0: [0.768, 0.768, 50.0]\n",
      "Resolution at mip=1: [1.536, 1.536, 50.0]\n",
      "Resolution at mip=2: [3.072, 3.072, 50.0]\n",
      "Resolution at mip=3: [6.144, 6.144, 50.0]\n",
      "Resolution at mip=4: [12.288, 12.288, 50.0]\n",
      "Resolution at mip=5: [24.576, 24.576, 100.0]\n",
      "Resolution at mip=6: [49.152, 49.152, 200.0]\n"
     ]
    }
   ],
   "source": [
    "print(\"---- SEM (nm) ----\")\n",
    "# Print resolutions of sem at all mip levels\n",
    "for mip_level in range(len(sem.scales)):\n",
    "    resolution = sem.scales[mip_level]['resolution']\n",
    "    print(f\"Resolution at mip={mip_level}: {resolution}\")\n",
    "\n",
    "print(\"---- SEM Labels (nm) ----\")\n",
    "# Print resolutions of sem_labels at all mip levels\n",
    "for mip_level in range(len(sem_labels.scales)):\n",
    "    resolution = sem_labels.scales[mip_level]['resolution']\n",
    "    print(f\"Resolution at mip={mip_level}: {resolution}\")\n",
    "\n",
    "print(\"---- TEM (nm) ----\")\n",
    "# Print resolutions of tem at all mip levels\n",
    "for mip_level in range(len(tem.scales)):\n",
    "    resolution = tem.scales[mip_level]['resolution']\n",
    "    print(f\"Resolution at mip={mip_level}: {resolution}\")\n",
    "\n",
    "print(\"---- TEM Labels (nm) ----\")\n",
    "# Print resolutions of tem_labels at all mip levels\n",
    "for mip_level in range(len(tem_labels.scales)):\n",
    "    resolution = tem_labels.scales[mip_level]['resolution']\n",
    "    print(f\"Resolution at mip={mip_level}: {resolution}\")\n"
   ]
  },
  {
   "cell_type": "code",
   "execution_count": 5,
   "metadata": {},
   "outputs": [
    {
     "name": "stdout",
     "output_type": "stream",
     "text": [
      "Bounds: Bbox([np.int32(0), np.int32(0), np.int32(0)],[np.int32(864), np.int32(704), np.int32(864)], dtype=np.int32, unit='vx')\n"
     ]
    }
   ],
   "source": [
    "print(f\"Bounds: {sem.bounds}\")"
   ]
  },
  {
   "cell_type": "code",
   "execution_count": 6,
   "metadata": {},
   "outputs": [],
   "source": [
    "import os\n",
    "import numpy as np\n",
    "import zarr\n",
    "from cloudvolume import CloudVolume, Bbox\n",
    "import zarr.storage\n",
    "\n",
    "def download_and_save_as_zarr(em_volume: CloudVolume, seg_volume: CloudVolume, save_path: str, mip_level=4, squeeze_c_dim=True):\n",
    "    \"\"\"\n",
    "    Downloads two cloud volumes (EM and segmentation) at their bounding boxes,\n",
    "    finds the intersection if the bounding boxes are mismatched, and saves\n",
    "    the resulting subvolume data in a Zarr directory store (with .zarray, .zgroup, etc.).\n",
    "\n",
    "    Parameters\n",
    "    ----------\n",
    "    em_volume : CloudVolume\n",
    "        The CloudVolume instance for the EM data to download.\n",
    "    seg_volume : CloudVolume\n",
    "        The CloudVolume instance for the segmentation data to download.\n",
    "    save_path : str\n",
    "        The path to the directory where the Zarr store will be saved.\n",
    "    \"\"\"\n",
    "    # 1) Get full bounding boxes for EM and segmentation\n",
    "    em_bbox = Bbox.from_delta(em_volume.bounds.minpt, em_volume.bounds.size3())\n",
    "    seg_bbox = Bbox.from_delta(seg_volume.bounds.minpt, seg_volume.bounds.size3())\n",
    "\n",
    "    # 2) Calculate the intersection of the bounding boxes\n",
    "    intersection_bbox = em_bbox.intersection(em_bbox, seg_bbox)\n",
    "\n",
    "    # 3) Download data from the intersection region\n",
    "    em_data = em_volume.download(intersection_bbox)\n",
    "    seg_data = seg_volume.download(intersection_bbox)\n",
    "\n",
    "    # 4) Convert to numpy arrays if necessary and print dtype and check if not all zero\n",
    "    if not isinstance(em_data, np.ndarray):\n",
    "        em_data = np.array(em_data)\n",
    "    print(f\"EM data dtype: {em_data.dtype}\")\n",
    "    if np.any(em_data != 0):\n",
    "        print(\"EM data is not all zero.\")\n",
    "    \n",
    "    if not isinstance(seg_data, np.ndarray):\n",
    "        seg_data = np.array(seg_data)\n",
    "    print(f\"Segmentation data dtype: {seg_data.dtype}\")\n",
    "    if np.any(seg_data != 0):\n",
    "        print(\"Segmentation data is not all zero. ✅\")\n",
    "\n",
    "    # 5) Create a standard Zarr directory store (which includes .zarray, .zgroup, etc.)\n",
    "    store = zarr.DirectoryStore(save_path)\n",
    "    root = zarr.group(store=store, overwrite=True)\n",
    "    \n",
    "    print(\"Creating arrays\")\n",
    "    \n",
    "    # 6) Create datasets with chunked layout (adjust chunks as desired)\n",
    "    # Adjust chunk sizes to avoid exceeding buffer size limits\n",
    "\n",
    "    # Assert that the channel axis is 1 and remove it if present, only if ndim is 4 and squeeze_c is True\n",
    "    if squeeze_c_dim and em_data.ndim == 4:\n",
    "        assert em_data.shape[-1] == 1, \"EM data channel axis is not 1\"\n",
    "        em_data = em_data.squeeze(axis=-1)\n",
    "    \n",
    "    if squeeze_c_dim and seg_data.ndim == 4:\n",
    "        assert seg_data.shape[-1] == 1, \"Segmentation data channel axis is not 1\"\n",
    "        seg_data = seg_data.squeeze(axis=-1)\n",
    "\n",
    "    raw_array = root.create_dataset('raw', data=em_data, shape=em_data.shape, dtype=em_data.dtype)\n",
    "    seg_array = root.create_dataset('gt_labels', data=seg_data, shape=seg_data.shape, dtype=seg_data.dtype)\n",
    "    \n",
    "    # 7) Extract metadata for the specified mip level\n",
    "    em_info = em_volume.info['scales'][mip_level]\n",
    "    seg_info = seg_volume.info['scales'][mip_level]\n",
    "    \n",
    "    # 8) Create .zattrs for metadata using extracted values\n",
    "    raw_array.attrs.update({\n",
    "        'description': 'Raw electron microscopy data',\n",
    "        'encoding': em_info['encoding'],\n",
    "        'offset': em_info['voxel_offset'],\n",
    "        'axis_names': ['x', 'y', 'z'],\n",
    "        'units': ['nm', 'nm', 'nm'],\n",
    "        'voxel_size': em_info['resolution']\n",
    "    })\n",
    "    seg_array.attrs.update({\n",
    "        'description': 'Ground truth labels for segmentation',\n",
    "        'encoding': seg_info['encoding'],\n",
    "        'offset': seg_info['voxel_offset'],\n",
    "        'axis_names': ['x', 'y', 'z'],\n",
    "        'units': ['nm', 'nm', 'nm'],\n",
    "        'voxel_size': seg_info['resolution']\n",
    "    })\n",
    "\n",
    "    print(f\"Zarr datasets saved in '{save_path}'.\")"
   ]
  },
  {
   "cell_type": "code",
   "execution_count": 7,
   "metadata": {},
   "outputs": [
    {
     "name": "stdout",
     "output_type": "stream",
     "text": [
      "Downloading and saving to sem.zarr\n"
     ]
    },
    {
     "name": "stderr",
     "output_type": "stream",
     "text": [
      "Downloading: 100%|██████████| 216/216 [00:40<00:00,  5.37it/s]\n",
      "Downloading: 100%|██████████| 216/216 [00:12<00:00, 17.00it/s]\n"
     ]
    },
    {
     "name": "stdout",
     "output_type": "stream",
     "text": [
      "EM data dtype: uint8\n",
      "EM data is not all zero.\n",
      "Segmentation data dtype: uint64\n",
      "Segmentation data is not all zero. ✅\n",
      "Creating arrays\n",
      "Zarr datasets saved in 'data_neuroglancer/sem.zarr'.\n",
      "Downloading and saving to tem.zarr\n"
     ]
    },
    {
     "name": "stderr",
     "output_type": "stream",
     "text": [
      "Downloading: 100%|██████████| 675/675 [01:06<00:00, 10.09it/s]\n",
      "Downloading: 100%|██████████| 675/675 [00:15<00:00, 44.13it/s] \n"
     ]
    },
    {
     "name": "stdout",
     "output_type": "stream",
     "text": [
      "EM data dtype: uint8\n",
      "EM data is not all zero.\n",
      "Segmentation data dtype: uint64\n",
      "Segmentation data is not all zero. ✅\n",
      "Creating arrays\n",
      "Zarr datasets saved in 'data_neuroglancer/tem.zarr'.\n"
     ]
    }
   ],
   "source": [
    "import os\n",
    "to_download = [[sem, sem_labels], [tem, tem_labels]]\n",
    "zarrs = [\"sem.zarr\", \"tem.zarr\"]\n",
    "break_array = [False, False]\n",
    "base_download_path = \"data_neuroglancer\"\n",
    "\n",
    "\n",
    "for (em,labels), target_path, toggle_break in zip(to_download,zarrs,break_array):\n",
    "    if not toggle_break:\n",
    "        print(f\"Downloading and saving to {target_path}\")\n",
    "        download_and_save_as_zarr(em,labels,save_path=os.path.join(base_download_path,target_path),squeeze_c_dim=True)   "
   ]
  },
  {
   "cell_type": "code",
   "execution_count": 51,
   "metadata": {},
   "outputs": [],
   "source": [
    "import zarr\n",
    "import numpy as np\n",
    "import os \n",
    "def reorder_xyz_to_zyx(zarr_path):\n",
    "    print(f\"Opening Zarr store at path: {zarr_path}\")\n",
    "    store = zarr.open(zarr_path, mode='r+')\n",
    "    \n",
    "    # recursively handle groups\n",
    "    def _reorder_group(group):\n",
    "        print(f\"Processing group: {group.name}\")\n",
    "        for k, v in group.items():\n",
    "            if isinstance(v, zarr.Group):\n",
    "                print(f\"Found subgroup: {k}\")\n",
    "                _reorder_group(v)\n",
    "            elif isinstance(v, zarr.Array):\n",
    "                print(f\"Found array: {k}\")\n",
    "                axes = v.attrs.get('axis_names', None)\n",
    "                print(f\"Current axes: {axes}\")\n",
    "                if axes == ['x', 'y', 'z']:\n",
    "                    print(f\"Reordering array: {k}\")\n",
    "                    data = v[...]\n",
    "                    # reorder\n",
    "                    data = np.transpose(data, (2,1,0))\n",
    "                    # update data & axes\n",
    "                    v.resize(data.shape)\n",
    "                    v[...] = data\n",
    "                    v.attrs['axis_names'] = ['z', 'y', 'x']\n",
    "                    v.attrs['offset'] = [v.attrs['offset'][2], v.attrs['offset'][1], v.attrs['offset'][0]]\n",
    "                    v.attrs['voxel_size'] = [v.attrs['voxel_size'][2], v.attrs['voxel_size'][1], v.attrs['voxel_size'][0]]\n",
    "                    v.attrs['units'] = [v.attrs['units'][2], v.attrs['units'][1], v.attrs['units'][0]]\n",
    "                    v.attrs['axis_names'] = ['z', 'y', 'x']\n",
    "                    print(f\"Reordered axes: {v.attrs['axis_names']}\")\n",
    "    \n",
    "    _reorder_group(store)\n",
    "    print(f\"Completed reordering for Zarr store at path: {zarr_path}\")"
   ]
  },
  {
   "cell_type": "code",
   "execution_count": 52,
   "metadata": {},
   "outputs": [
    {
     "name": "stdout",
     "output_type": "stream",
     "text": [
      "Opening Zarr store at path: data/sem.zarr\n",
      "Processing group: /\n",
      "Found array: gt_labels\n",
      "Current axes: ['x', 'y', 'z']\n",
      "Reordering array: gt_labels\n",
      "Reordered axes: ['z', 'y', 'x']\n",
      "Found array: raw\n",
      "Current axes: ['x', 'y', 'z']\n",
      "Reordering array: raw\n",
      "Reordered axes: ['z', 'y', 'x']\n",
      "Completed reordering for Zarr store at path: data/sem.zarr\n",
      "Opening Zarr store at path: data/tem.zarr\n",
      "Processing group: /\n",
      "Found array: gt_labels\n",
      "Current axes: ['x', 'y', 'z']\n",
      "Reordering array: gt_labels\n",
      "Reordered axes: ['z', 'y', 'x']\n",
      "Found array: raw\n",
      "Current axes: ['x', 'y', 'z']\n",
      "Reordering array: raw\n",
      "Reordered axes: ['z', 'y', 'x']\n",
      "Completed reordering for Zarr store at path: data/tem.zarr\n"
     ]
    }
   ],
   "source": [
    "for zarr_path in [\"sem.zarr\", \"tem.zarr\"]:\n",
    "    reorder_xyz_to_zyx(os.path.join(\"data\",zarr_path))"
   ]
  },
  {
   "cell_type": "code",
   "execution_count": 53,
   "metadata": {},
   "outputs": [
    {
     "name": "stdout",
     "output_type": "stream",
     "text": [
      "Success downloading and reordering all datasets!\n"
     ]
    }
   ],
   "source": [
    "print(\"Success downloading and reordering all datasets!\")"
   ]
  }
 ],
 "metadata": {
  "kernelspec": {
   "display_name": ".venv",
   "language": "python",
   "name": "python3"
  },
  "language_info": {
   "codemirror_mode": {
    "name": "ipython",
    "version": 3
   },
   "file_extension": ".py",
   "mimetype": "text/x-python",
   "name": "python",
   "nbconvert_exporter": "python",
   "pygments_lexer": "ipython3",
   "version": "3.12.3"
  }
 },
 "nbformat": 4,
 "nbformat_minor": 2
}
